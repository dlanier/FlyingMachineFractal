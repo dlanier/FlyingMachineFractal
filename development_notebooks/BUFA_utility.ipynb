{
 "cells": [
  {
   "cell_type": "code",
   "execution_count": 2,
   "metadata": {},
   "outputs": [],
   "source": [
    "# import warnings\n",
    "# warnings.filterwarnings('ignore')\n",
    "\n",
    "# import os\n",
    "import sys\n",
    "# import numpy as np\n",
    "# import time\n",
    "\n",
    "# from IPython.display import display\n",
    "\n",
    "sys.path.insert(1, '../src');\n",
    "import z_plane as zp\n",
    "import BUFA_utility as ut\n",
    "# import graphic_utility as gu;\n",
    "# import itergataters as ig\n",
    "# import numcolorpy as ncp"
   ]
  },
  {
   "cell_type": "code",
   "execution_count": 1,
   "metadata": {},
   "outputs": [
    {
     "name": "stdout",
     "output_type": "stream",
     "text": [
      "Writing ../src/BUFA_utility.py\n"
     ]
    }
   ],
   "source": [
    "%%writefile ../src/BUFA_utility.py\n",
    "\"\"\"\n",
    "@author:\n",
    "lanier4@illinois.edu\n",
    "mradmstr514226508@gmail.com\n",
    "\"\"\"\n",
    "\n",
    "import os\n",
    "import time\n",
    "import yaml\n",
    "from inspect import getmembers, isfunction, getsource, signature, isclass\n",
    "\n",
    "conscientious_message = 'USER MISTAKE -- NOT AN ERROR'\n",
    "\n",
    "def display_module(imported_module, show_imported_functions=False):\n",
    "    \"\"\" Usage: display_module_functions(any_module) \n",
    "    Args:\n",
    "        imported_module:         an imported python module\n",
    "        show_imported_functions: default is False - ignore imported functions\n",
    "        \n",
    "    \"\"\"\n",
    "    ignore_functions_list = ['getmembers', 'isfunction', 'getsource', 'signature']\n",
    "\n",
    "    functions_list = [o for o in getmembers(imported_module) if isfunction(o[1])]\n",
    "    source_list = [getsource(o[1]) for o in getmembers(imported_module) if isfunction(o[1])]    \n",
    "    \n",
    "    if len(source_list) != len(functions_list): return  #       This should not be possible\n",
    "    \n",
    "    for list_number in range(len(functions_list)):\n",
    "        function_tuple = functions_list[list_number]    \n",
    "        if function_tuple[0] in ignore_functions_list:\n",
    "            if show_imported_functions == True:\n",
    "                print('using: %s%s'%(function_tuple[0], signature(function_tuple[1])))\n",
    "        else:\n",
    "            source_str = source_list[list_number]\n",
    "            docs_string = None\n",
    "            try:\n",
    "                docs_string = source_str.split('\"\"\"')[1]\n",
    "            except:\n",
    "                pass\n",
    "\n",
    "            print('def %s%s'%(function_tuple[0], signature(function_tuple[1])))\n",
    "            if docs_string is None:\n",
    "                print('doc_missing\\n')\n",
    "            else:\n",
    "                print(docs_string,'\\n')\n",
    "                \n",
    "                \n",
    "    class_list = [o for o in getmembers(imported_module) if isclass(o[1])]\n",
    "    class_source_list = [getsource(o[1]) for o in getmembers(imported_module) if isclass(o[1])]\n",
    "    for list_number in range(len(class_list)):\n",
    "        class_tuple = class_list[list_number]    \n",
    "        source_str = class_source_list[list_number]\n",
    "        docs_string = None\n",
    "        try:\n",
    "            docs_string = source_str.split('\"\"\"')[1]\n",
    "        except:\n",
    "            pass\n",
    "\n",
    "        print('def %s'%(class_tuple[0]))\n",
    "        if docs_string is None:\n",
    "            print('doc_missing\\n')\n",
    "        else:\n",
    "            print(docs_string,'\\n')"
   ]
  },
  {
   "cell_type": "code",
   "execution_count": null,
   "metadata": {},
   "outputs": [],
   "source": [
    "\n",
    "# show the functions available in the module written from this notebook:\n",
    "ut.display_module(zp, show_imported_functions=True)"
   ]
  },
  {
   "cell_type": "code",
   "execution_count": null,
   "metadata": {},
   "outputs": [],
   "source": []
  },
  {
   "cell_type": "code",
   "execution_count": null,
   "metadata": {},
   "outputs": [],
   "source": []
  },
  {
   "cell_type": "code",
   "execution_count": null,
   "metadata": {},
   "outputs": [],
   "source": []
  },
  {
   "cell_type": "code",
   "execution_count": null,
   "metadata": {},
   "outputs": [],
   "source": []
  },
  {
   "cell_type": "code",
   "execution_count": null,
   "metadata": {},
   "outputs": [],
   "source": []
  },
  {
   "cell_type": "code",
   "execution_count": null,
   "metadata": {},
   "outputs": [],
   "source": []
  },
  {
   "cell_type": "code",
   "execution_count": null,
   "metadata": {},
   "outputs": [],
   "source": []
  },
  {
   "cell_type": "code",
   "execution_count": null,
   "metadata": {},
   "outputs": [],
   "source": []
  },
  {
   "cell_type": "code",
   "execution_count": null,
   "metadata": {},
   "outputs": [],
   "source": []
  },
  {
   "cell_type": "code",
   "execution_count": null,
   "metadata": {},
   "outputs": [],
   "source": []
  },
  {
   "cell_type": "code",
   "execution_count": null,
   "metadata": {},
   "outputs": [],
   "source": []
  }
 ],
 "metadata": {
  "anaconda-cloud": {},
  "kernelspec": {
   "display_name": "Python 3",
   "language": "python",
   "name": "python3"
  },
  "language_info": {
   "codemirror_mode": {
    "name": "ipython",
    "version": 3
   },
   "file_extension": ".py",
   "mimetype": "text/x-python",
   "name": "python",
   "nbconvert_exporter": "python",
   "pygments_lexer": "ipython3",
   "version": "3.5.2"
  }
 },
 "nbformat": 4,
 "nbformat_minor": 2
}
