{
 "cells": [
  {
   "cell_type": "code",
   "execution_count": 1,
   "metadata": {},
   "outputs": [
    {
     "data": {
      "text/latex": [
       "\\begin{eqnarray} \\large\n",
       "Z_{n+1} = Z_{n}^{-(((p_{1}^{Z_{n})^{p_{2})^{Z_{n})^{p_{3}}}}}}\n",
       "\\end{eqnarray}"
      ],
      "text/plain": [
       "<IPython.core.display.Latex object>"
      ]
     },
     "execution_count": 1,
     "metadata": {},
     "output_type": "execute_result"
    }
   ],
   "source": [
    "from IPython.display import Latex\n",
    "Latex(r\"\"\"\\begin{eqnarray} \\large\n",
    "Z_{n+1} = Z_{n}^{-(((p_{1}^{Z_{n})^{p_{2})^{Z_{n})^{p_{3}}}}}}\n",
    "\\end{eqnarray}\"\"\")"
   ]
  },
  {
   "cell_type": "markdown",
   "metadata": {},
   "source": [
    "# Graphical analysis of a numerical oddity.\n",
    "\n",
    "    Sequential iteration on the complex plane of difference equation:\n",
    "    Z = Z^(-(((p[0]^Z)^p[1])^Z)^p[2])\n",
    "    with parameter set:\n",
    "    p= [-0.029066089625696265+0.030556496865847337j,\n",
    "        -0.84042726201488649, \n",
    "        0.013147051704933837+0.012053822775137061j]\n",
    "    suggests an organic figure."
   ]
  },
  {
   "cell_type": "code",
   "execution_count": 2,
   "metadata": {
    "collapsed": true
   },
   "outputs": [],
   "source": [
    "import warnings\n",
    "warnings.filterwarnings('ignore')\n",
    "\n",
    "import os\n",
    "import sys   \n",
    "import numpy as np\n",
    "import time\n",
    "\n",
    "from IPython.display import display\n",
    "\n",
    "sys.path.insert(1, '../src');\n",
    "import z_plane as zp\n",
    "import graphic_utility as gu;\n",
    "import itergataters as ig\n",
    "import numcolorpy as ncp"
   ]
  },
  {
   "cell_type": "code",
   "execution_count": null,
   "metadata": {
    "collapsed": true
   },
   "outputs": [],
   "source": [
    "def swanfishsnail(Z, p, Z0=None, ET=None):\n",
    "    \"\"\" Z = bugga_bear(Z, p) \n",
    "    Args:\n",
    "        Z:    a real or complex number\n",
    "        p:    a real of complex number\n",
    "    Returns:\n",
    "        Z:    the result (complex)\n",
    "        Z = Z.^(-exp(pi * p(2)).^Z.^(-sin(abs(p(1) + p(2)))).^Z.^(exp(p(2)-p(1))));\n",
    "    \"\"\"\n",
    "    return Z**(-(((p[0]**Z)**p[1])**Z)**p[2])"
   ]
  },
  {
   "cell_type": "code",
   "execution_count": null,
   "metadata": {},
   "outputs": [],
   "source": [
    "#                                        -- define parameters iterate the above equation  --\n",
    "par_set = {'n_rows': 500, 'n_cols': 700}\n",
    "par_set['center_point'] = 0.2 - 0.55j\n",
    "par_set['theta'] = -np.pi/4\n",
    "par_set['zoom'] = 0.5\n",
    "\n",
    "par_set['it_max'] = 64\n",
    "par_set['max_d'] = 10 / par_set['zoom']\n",
    "par_set['dir_path'] = os.getcwd()\n",
    "\n",
    "p = [3.01874673, -1.00776339+0.74204475j]\n",
    "p0 = np.exp(np.pi * p[1])\n",
    "p1 = -np.sin(np.abs(p[0] + p[1]))\n",
    "p2 = np.exp(p[1] - p[0])\n",
    "\n",
    "list_tuple = [(swanfishsnail, ([p0, p1, p2]))]\n",
    "\n",
    "t0 = time.time()\n",
    "ET, Z, Z0 = ig.get_primitives(list_tuple, par_set)\n",
    "print(time.time() - t0, '\\t total time')\n",
    "\n",
    "t0 = time.time()\n",
    "Zd, Zr, ETn = ncp.etg_norm(Z0, Z, ET)\n",
    "print('converstion time =\\t', time.time() - t0)"
   ]
  },
  {
   "cell_type": "code",
   "execution_count": null,
   "metadata": {},
   "outputs": [],
   "source": [
    "#                  Escape Time: darker escaped sooner\n",
    "t0 = time.time()\n",
    "ETd = ncp.mat_to_gray(ETn)\n",
    "print('coloring time =\\t',time.time() - t0)\n",
    "display(ETd)"
   ]
  },
  {
   "cell_type": "code",
   "execution_count": null,
   "metadata": {},
   "outputs": [],
   "source": [
    "#                  Distance at Escape Time: lighter traveled further\n",
    "t0 = time.time()\n",
    "D = ncp.mat_to_gray(Zd, max_v=255, min_v=64)\n",
    "print('coloring time =\\t',time.time() - t0)\n",
    "display(D)"
   ]
  },
  {
   "cell_type": "code",
   "execution_count": null,
   "metadata": {},
   "outputs": [],
   "source": [
    "#                  Rotation at Escape Time: lighter rotated more\n",
    "t0 = time.time()\n",
    "R = ncp.mat_to_gray(Zr, max_v=255, min_v=64)\n",
    "print('coloring time =\\t',time.time() - t0)\n",
    "display(R)"
   ]
  },
  {
   "cell_type": "code",
   "execution_count": null,
   "metadata": {},
   "outputs": [],
   "source": [
    "#                  Rotation > Hue, Distance > Saturation, Escape Time > Value (intensity-brightness) (muted)\n",
    "H = Zr\n",
    "S = 1 - ncp.graphic_norm(Zd)\n",
    "V = 1 - ncp.graphic_norm(ET)\n",
    "\n",
    "Hue_width = 0.5\n",
    "H_min = 0.0\n",
    "H_max = H_min + Hue_width\n",
    "\n",
    "S_max = 0.5\n",
    "S_min = 0.05\n",
    "\n",
    "V_max = 0.9\n",
    "V_min = 0.2\n",
    "t0 = time.time()\n",
    "Ihsv = ncp.normat_hsv_intrgb(H, S, V, H_max, H_min, S_max, S_min, V_max, V_min)\n",
    "print('coloring time:\\t',time.time() - t0)\n",
    "display(Ihsv)"
   ]
  },
  {
   "cell_type": "code",
   "execution_count": null,
   "metadata": {},
   "outputs": [],
   "source": [
    "#                  Rotation > Hue, Escape Time > Saturation, Distance > Value (no significantly muted)\n",
    "Z_v = Z-Z0\n",
    "H = ncp.graphic_norm(np.arctan2(np.imag(Z_v), np.real(Z_v)))\n",
    "S = 1 - ncp.graphic_norm(ET)\n",
    "V = 1 - ncp.graphic_norm(Z_v)\n",
    "\n",
    "Hue_width = 1.0\n",
    "H_min = 0.0\n",
    "H_max = H_min+Hue_width\n",
    "\n",
    "S_max = 1.0\n",
    "S_min = 0.1\n",
    "\n",
    "V_max = 0.9\n",
    "V_min = 0.0\n",
    "t0 = time.time()\n",
    "I = ncp.normat_hsv_intrgb(H, S, V, H_max, H_min, S_max, S_min, V_max, V_min)\n",
    "print('coloring time:\\t',time.time() - t0)\n",
    "display(I)"
   ]
  },
  {
   "cell_type": "code",
   "execution_count": null,
   "metadata": {},
   "outputs": [],
   "source": [
    "#                                        smaller -> view individual escape time sets\n",
    "par_set = {'n_rows': 150, 'n_cols': 250}\n",
    "par_set['center_point'] = 0.2 - 0.55j\n",
    "par_set['theta'] = -np.pi/4\n",
    "par_set['zoom'] = 0.5\n",
    "\n",
    "par_set['it_max'] = 64\n",
    "par_set['max_d'] = 10 / par_set['zoom']\n",
    "par_set['dir_path'] = os.getcwd()\n",
    "\n",
    "p = [3.01874673, -1.00776339+0.74204475j]\n",
    "p0 = np.exp(np.pi * p[1])\n",
    "p1 = -np.sin(np.abs(p[0] + p[1]))\n",
    "p2 = np.exp(p[1] - p[0])\n",
    "\n",
    "list_tuple = [(swanfishsnail, ([p0, p1, p2]))]\n",
    "\n",
    "t0 = time.time()\n",
    "ET_sm, Z_sm, Z0_sm = ig.get_primitives(list_tuple, par_set)\n",
    "print(time.time() - t0, '\\t total time')\n",
    "\n",
    "# t0 = time.time()\n",
    "# Zd, Zr, ETn = ncp.etg_norm(Z0, Z, ET)\n",
    "# print('converstion time =\\t', time.time() - t0)"
   ]
  },
  {
   "cell_type": "code",
   "execution_count": null,
   "metadata": {},
   "outputs": [],
   "source": [
    "#                                        view smaller - individual escape time starting points\n",
    "for t in range(1,7):\n",
    "    print('ET =\\t',t)\n",
    "    I = np.ones(ET_sm.shape)\n",
    "    I[ET_sm == t] = 0\n",
    "    display(ncp.mat_to_gray(I))\n",
    "I = np.ones(ET_sm.shape)\n",
    "I[ET_sm > 7] = 0\n",
    "display(ncp.mat_to_gray(I))"
   ]
  },
  {
   "cell_type": "code",
   "execution_count": null,
   "metadata": {},
   "outputs": [],
   "source": [
    "#                                        view smaller - individual escape time frequency\n",
    "for k in range(0,int(ET_sm.max())):\n",
    "    print(k, (ET_sm == k).sum())\n",
    "print('\\nHow many never escaped:\\n>',(ET_sm > k).sum())"
   ]
  },
  {
   "cell_type": "code",
   "execution_count": null,
   "metadata": {},
   "outputs": [],
   "source": [
    "#                           get the list of unescaped starting points and look for orbit points\n",
    "Z_overs = Z0[ET_sm == ET_sm.max()]\n",
    "\n",
    "v1 = Z_overs[0]\n",
    "d = '%0.2f'%(np.abs(v1))\n",
    "theta = '%0.1f'%(180*np.arctan2(np.imag(v1), np.real(v1))/np.pi)\n",
    "print('Unescaped Vector:\\n\\tV = ', d, theta, 'degrees\\n')\n",
    "\n",
    "print('%9d'%Z_overs.size, 'total unescaped points\\n')\n",
    "print('%9s'%('points'), 'near V', '      (plane units)')\n",
    "for denom0 in range(1,12):\n",
    "    neighbor_distance = np.abs(v1) * 1/denom0\n",
    "    v1_list = Z_overs[np.abs(Z_overs-v1) < neighbor_distance]\n",
    "    print('%9d'%len(v1_list), 'within V/%2d  (%0.3f)'%(denom0, neighbor_distance))"
   ]
  },
  {
   "cell_type": "code",
   "execution_count": null,
   "metadata": {
    "collapsed": true
   },
   "outputs": [],
   "source": []
  }
 ],
 "metadata": {
  "anaconda-cloud": {},
  "kernelspec": {
   "display_name": "Python 3",
   "language": "python",
   "name": "python3"
  },
  "language_info": {
   "codemirror_mode": {
    "name": "ipython",
    "version": 3
   },
   "file_extension": ".py",
   "mimetype": "text/x-python",
   "name": "python",
   "nbconvert_exporter": "python",
   "pygments_lexer": "ipython3",
   "version": "3.5.2"
  }
 },
 "nbformat": 4,
 "nbformat_minor": 2
}
