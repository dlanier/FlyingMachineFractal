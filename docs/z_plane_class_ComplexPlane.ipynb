{
 "cells": [
  {
   "cell_type": "markdown",
   "metadata": {
    "deletable": true,
    "editable": true
   },
   "source": [
    "# z_plane class:   ComplexPlane\n",
    "\n",
    "Properties and Available methods"
   ]
  },
  {
   "cell_type": "code",
   "execution_count": 1,
   "metadata": {
    "collapsed": false,
    "deletable": true,
    "editable": true
   },
   "outputs": [],
   "source": [
    "import sys\n",
    "sys.path.insert(1, '../src')\n",
    "#                                notebook imports\n",
    "import z_plane\n",
    "from z_plane import ComplexPlane"
   ]
  },
  {
   "cell_type": "markdown",
   "metadata": {},
   "source": [
    "#### object = ComplexPlane( CP = 0.0 + 0.0j,  ZM = 1.0, theta = 0.0, h = 5, w = 5 )       (complex, real, real (radians), int, int)\n",
    "#### object.display_self( )"
   ]
  },
  {
   "cell_type": "code",
   "execution_count": 2,
   "metadata": {
    "collapsed": false
   },
   "outputs": [
    {
     "name": "stdout",
     "output_type": "stream",
     "text": [
      "    center_point: 0\n",
      "          n_cols: 5\n",
      "          n_rows: 5\n",
      "           theta: 0\n",
      "     zoom_factor: 1\n",
      "\n"
     ]
    }
   ],
   "source": [
    "self = ComplexPlane()\n",
    "self.display_self()"
   ]
  },
  {
   "cell_type": "markdown",
   "metadata": {
    "deletable": true,
    "editable": true
   },
   "source": [
    "#### create a ComplexPlane object.get_complex_pixels( ) \n",
    "\n",
    "#### EscapeTimeBoundry = object.get_escape_bound( )"
   ]
  },
  {
   "cell_type": "code",
   "execution_count": 3,
   "metadata": {
    "collapsed": false,
    "deletable": true,
    "editable": true
   },
   "outputs": [
    {
     "name": "stdout",
     "output_type": "stream",
     "text": [
      "ETBound =\t 12.0\n",
      "-1.000 +1.000j  -0.500 +1.000j   0.000 +1.000j   0.500 +1.000j   1.000 +1.000j  \n",
      "-1.000 +0.500j  -0.500 +0.500j   0.000 +0.500j   0.500 +0.500j   1.000 +0.500j  \n",
      "-1.000 +0.000j  -0.500 +0.000j   0.000 +0.000j   0.500 +0.000j   1.000 +0.000j  \n",
      "-1.000 -0.500j  -0.500 -0.500j   0.000 -0.500j   0.500 -0.500j   1.000 -0.500j  \n",
      "-1.000 -1.000j  -0.500 -1.000j   0.000 -1.000j   0.500 -1.000j   1.000 -1.000j  \n"
     ]
    }
   ],
   "source": [
    "Z0 = self.get_complex_pixels()\n",
    "ETBound = self.get_escape_bound()\n",
    "print('ETBound =\\t', ETBound)\n",
    "z_plane.show_complex_matrix(Z0)"
   ]
  },
  {
   "cell_type": "markdown",
   "metadata": {
    "deletable": true,
    "editable": true
   },
   "source": [
    "#### parameters_dict = object.get_parameters_dict( )\n",
    "\n",
    "#### object.load_dict(parameters_dict)"
   ]
  },
  {
   "cell_type": "code",
   "execution_count": 4,
   "metadata": {
    "collapsed": false,
    "deletable": true,
    "editable": true
   },
   "outputs": [],
   "source": [
    "parameters_dict = self.get_parameters_dict()\n",
    "\n",
    "parameters_dict['center_point'] = 2.0 - 1.678j\n",
    "self.load_dict(parameters_dict)"
   ]
  },
  {
   "cell_type": "markdown",
   "metadata": {
    "deletable": true,
    "editable": true
   },
   "source": [
    "#### **horizontal_axis,  vertical_axis  =  obj.get_complex_axes( )**"
   ]
  },
  {
   "cell_type": "code",
   "execution_count": 5,
   "metadata": {
    "collapsed": false,
    "deletable": true,
    "editable": true
   },
   "outputs": [
    {
     "name": "stdout",
     "output_type": "stream",
     "text": [
      " 1.000 -1.678j  \n",
      " 1.500 -1.678j  \n",
      " 2.000 -1.678j  \n",
      " 2.500 -1.678j  \n",
      " 3.000 -1.678j  \n",
      "\n",
      " 2.000 -0.678j  \n",
      " 2.000 -1.178j  \n",
      " 2.000 -1.678j  \n",
      " 2.000 -2.178j  \n",
      " 2.000 -2.678j  \n",
      "\n"
     ]
    }
   ],
   "source": [
    "horiz_axis, vert_axis = self.get_complex_axes()\n",
    "z_plane.show_complex_matrix(horiz_axis)\n",
    "z_plane.show_complex_matrix(vert_axis)"
   ]
  },
  {
   "cell_type": "markdown",
   "metadata": {
    "deletable": true,
    "editable": true
   },
   "source": [
    "#### **top_rail, bottom_rail = obj.get_styles( )**"
   ]
  },
  {
   "cell_type": "code",
   "execution_count": 6,
   "metadata": {
    "collapsed": false,
    "deletable": true,
    "editable": true
   },
   "outputs": [
    {
     "name": "stdout",
     "output_type": "stream",
     "text": [
      " 1.000 -0.678j  \n",
      " 1.000 -1.178j  \n",
      " 1.000 -1.678j  \n",
      " 1.000 -2.178j  \n",
      " 1.000 -2.678j  \n",
      "\n",
      " 2.000 -0.678j  \n",
      " 2.000 -1.178j  \n",
      " 2.000 -1.678j  \n",
      " 2.000 -2.178j  \n",
      " 2.000 -2.678j  \n",
      "\n"
     ]
    }
   ],
   "source": [
    "top_rail, bottom_rail = self.get_styles()\n",
    "z_plane.show_complex_matrix(top_rail)\n",
    "z_plane.show_complex_matrix(vert_axis)"
   ]
  },
  {
   "cell_type": "markdown",
   "metadata": {
    "deletable": true,
    "editable": true
   },
   "source": [
    "#### **left_style, right_style = self.get_styles( )**\n",
    "* terminology note: Split rail fences (and fine furniture) consist of verical members called styles and horizontal members call rails\n",
    "* mercifully it was decided not to call the body plane a \"carcase\""
   ]
  },
  {
   "cell_type": "code",
   "execution_count": 7,
   "metadata": {
    "collapsed": false,
    "deletable": true,
    "editable": true
   },
   "outputs": [
    {
     "name": "stdout",
     "output_type": "stream",
     "text": [
      " 1.000 -1.678j  \n",
      " 1.500 -1.678j  \n",
      " 2.000 -1.678j  \n",
      " 2.500 -1.678j  \n",
      " 3.000 -1.678j  \n",
      "\n",
      " 3.000 -0.678j  \n",
      " 3.000 -1.178j  \n",
      " 3.000 -1.678j  \n",
      " 3.000 -2.178j  \n",
      " 3.000 -2.678j  \n",
      "\n"
     ]
    }
   ],
   "source": [
    "left_style, right_style = self.get_styles()\n",
    "z_plane.show_complex_matrix(horiz_axis)\n",
    "z_plane.show_complex_matrix(bottom_rail)"
   ]
  },
  {
   "cell_type": "markdown",
   "metadata": {
    "deletable": true,
    "editable": true
   },
   "source": [
    "#### row_vectors = self.get_complex_row(row_number)\n",
    "#### col_vectors = self.get_complex_col(column_number)"
   ]
  },
  {
   "cell_type": "code",
   "execution_count": 8,
   "metadata": {
    "collapsed": false,
    "deletable": true,
    "editable": true
   },
   "outputs": [
    {
     "name": "stdout",
     "output_type": "stream",
     "text": [
      " 1.000 -2.178j  \n",
      " 1.500 -2.178j  \n",
      " 2.000 -2.178j  \n",
      " 2.500 -2.178j  \n",
      " 3.000 -2.178j  \n",
      "\n",
      " 1.000 -1.678j  \n",
      " 1.500 -1.678j  \n",
      " 2.000 -1.678j  \n",
      " 2.500 -1.678j  \n",
      " 3.000 -1.678j  \n",
      "\n"
     ]
    }
   ],
   "source": [
    "row_vectors = self.get_complex_row(3)\n",
    "z_plane.show_complex_matrix(row_vectors)\n",
    "\n",
    "col_vectors = self.get_complex_col(2)\n",
    "z_plane.show_complex_matrix(col_vectors)"
   ]
  },
  {
   "cell_type": "code",
   "execution_count": null,
   "metadata": {
    "collapsed": true,
    "deletable": true,
    "editable": true
   },
   "outputs": [],
   "source": []
  },
  {
   "cell_type": "code",
   "execution_count": null,
   "metadata": {
    "collapsed": true,
    "deletable": true,
    "editable": true
   },
   "outputs": [],
   "source": []
  }
 ],
 "metadata": {
  "anaconda-cloud": {},
  "kernelspec": {
   "display_name": "Python 3",
   "language": "python",
   "name": "python3"
  },
  "language_info": {
   "codemirror_mode": {
    "name": "ipython",
    "version": 3
   },
   "file_extension": ".py",
   "mimetype": "text/x-python",
   "name": "python",
   "nbconvert_exporter": "python",
   "pygments_lexer": "ipython3",
   "version": "3.6.0"
  }
 },
 "nbformat": 4,
 "nbformat_minor": 1
}
