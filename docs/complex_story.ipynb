{
 "cells": [
  {
   "cell_type": "markdown",
   "metadata": {},
   "source": [
    "### Difference Equations as Graphic Art and Complex Analysis.\n",
    "   [Pierre Fatau](https://en.wikipedia.org/wiki/Pierre_Fatou) and [Gaston Julia](https://en.wikipedia.org/wiki/Gaston_Julia) found that very strange things happen to polynomials in the region of the complex plane around the unit circle. <br>\n",
    "   \n",
    "   The real-world usefullness of discrete differences are easy to understand. Using those differences algebraically and numerically points to where some system of differences may lead. Repeated calculation with a polynomial may lead to finding the root of a negative number. Therefore all who would project into the future with a system of iterated differences should consider complex vectors (numbers) useful.\n"
   ]
  },
  {
   "cell_type": "code",
   "execution_count": 8,
   "metadata": {},
   "outputs": [
    {
     "name": "stdout",
     "output_type": "stream",
     "text": [
      "\n",
      "complex z = (1+1j) one unit right, one imaginary unit up \n",
      "vector with magnitude: 1.414214, rotation: 0.785398 radians \n",
      "(rotation:) 45.000 in degrees\n"
     ]
    }
   ],
   "source": [
    "\"\"\" a complex number assigned the to the letter z \"\"\"\n",
    "import numpy as np\n",
    "z = 1 + 1j\n",
    "z_magnitude = np.abs(z)\n",
    "z_theta = np.arctan2(z.imag, z.real)\n",
    "z_theta_degrees = 180 * z_theta / np.pi\n",
    "print('\\ncomplex z =', z, 'one unit right, one imaginary unit up',\n",
    "      '\\nvector with magnitude: %03f, rotation: %03f radians'%(z_magnitude, z_theta), \n",
    "      '\\n(rotation:) %0.3f in degrees'%(z_theta_degrees))"
   ]
  },
  {
   "cell_type": "code",
   "execution_count": 23,
   "metadata": {},
   "outputs": [
    {
     "name": "stdout",
     "output_type": "stream",
     "text": [
      "\t1.000 + 0.000i\n",
      "\t0.766 + 0.643i\n",
      "\t0.174 + 0.985i\n",
      "\t-0.500 + 0.866i\n",
      "\t-0.940 + 0.342i\n",
      "\t-0.940  -0.342i\n",
      "\t-0.500  -0.866i\n",
      "\t0.174  -0.985i\n",
      "\t0.766  -0.643i\n",
      "\t1.000  -0.000i\n"
     ]
    }
   ],
   "source": [
    "magnitude = 1.0\n",
    "for theta in np.linspace(0, 2*np.pi, 10):\n",
    "    z = np.exp(theta * 1j) * magnitude\n",
    "    if z.imag >= 0:\n",
    "        print('\\t%0.3f + %0.3fi'%(z.real, z.imag))\n",
    "    else:\n",
    "        print('\\t%0.3f  %0.3fi'%(z.real, z.imag))\n"
   ]
  },
  {
   "cell_type": "code",
   "execution_count": null,
   "metadata": {},
   "outputs": [],
   "source": []
  }
 ],
 "metadata": {
  "kernelspec": {
   "display_name": "Python 3",
   "language": "python",
   "name": "python3"
  },
  "language_info": {
   "codemirror_mode": {
    "name": "ipython",
    "version": 3
   },
   "file_extension": ".py",
   "mimetype": "text/x-python",
   "name": "python",
   "nbconvert_exporter": "python",
   "pygments_lexer": "ipython3",
   "version": "3.7.3"
  }
 },
 "nbformat": 4,
 "nbformat_minor": 2
}
