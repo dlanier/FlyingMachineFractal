{
 "cells": [
  {
   "cell_type": "markdown",
   "metadata": {},
   "source": [
    "# Ratio of ratios on the complex plane.\n",
    "[Complex numbers](https://en.wikipedia.org/wiki/Complex_number), solved a mathematical gambler's ([Cardano](https://en.wikipedia.org/wiki/Gerolamo_Cardano)) problem of how to recursively calculate odds while allowing negative numbers. <br>\n",
    "For centuries, mathemiticians denied (cursed really) imaginary numbers. <br>\n",
    "[Leonhard Euler](https://en.wikipedia.org/wiki/Leonhard_Euler) put the matter to rest with [Euler's Formula](https://en.wikipedia.org/wiki/Euler%27s_formula) and the profoundly magical identity relating the base of the natural log, pi and the imaginary root of negative one to unity and nothing. <br>\n",
    "<br>\n",
    "$$\n",
    "\\ e^{i\\pi} - 1 = 0 \\\\\n",
    "$$\n",
    "<br>\n",
    "On the complex plane the real and imaginary axis are not perfectly orthoganal in the context of polynomials. <br>\n",
    "Complex vector addition moves in two directions by two amounts, <br>\n",
    "mulitiplication is a rotation with contraction or expansion. <br>\n",
    "These qualities make repeated iteration of difference equations much more interesting. <br>\n",
    "<br>\n",
    "$$\n",
    "\\ Z_{n+1} = f'(Z_{n}) \\\\\n",
    "$$\n",
    "<br>\n",
    "Repeated multiplacation of a real number has only three possible futures: <br>\n",
    "<br>\n",
    "$$\n",
    "\\ x_{n+1} = x_{n}^{2} \\\\\n",
    "\\ \\\\\n",
    "\\ x_{0} = 1 \\\\\n",
    "\\ x_{n} == 1 (forever) \\\\\n",
    "\\ \\\\\n",
    "\\ x_{0} > 1 \\\\\n",
    "\\ x \\Rightarrow \\infty   \\\\\n",
    "\\ \\\\\n",
    "\\ x_{0} < 1 \\\\\n",
    "\\ x \\Rightarrow 0 \\\\\n",
    "$$\n",
    "<br>\n",
    "Not so simple if the number is complex. <br>\n",
    "\n",
    "****\n",
    "### Difference Equations as Graphic Art and Complex Analysis.\n",
    "   The real-world usefullness of discrete differences are easy to understand. <br>\n",
    "   Using those differences algebraically and numerically reveals the necessity of complex numbers because, <br>\n",
    "   repeated calculation with a polynomial may lead to finding the root of a negative number. <br>\n",
    "   Ergo, projecting a 2d numerical future by iterated differences is best started with complex vectors. <br>\n",
    "\n",
    "   [Pierre Fatau](https://en.wikipedia.org/wiki/Pierre_Fatou) and [Gaston Julia](https://en.wikipedia.org/wiki/Gaston_Julia) found that very strange things happen to polynomials in the region of the complex plane around the unit circle. <br>\n"
   ]
  },
  {
   "cell_type": "code",
   "execution_count": 8,
   "metadata": {},
   "outputs": [
    {
     "name": "stdout",
     "output_type": "stream",
     "text": [
      "\n",
      "complex z = (1+1j) one unit right, one imaginary unit up \n",
      "vector with magnitude: 1.414214, rotation: 0.785398 radians \n",
      "(rotation:) 45.000 in degrees\n"
     ]
    }
   ],
   "source": [
    "\"\"\" a complex number assigned the to the letter z \"\"\"\n",
    "import numpy as np\n",
    "z = 1 + 1j\n",
    "z_magnitude = np.abs(z)\n",
    "z_theta = np.arctan2(z.imag, z.real)\n",
    "z_theta_degrees = 180 * z_theta / np.pi\n",
    "print('\\ncomplex z =', z, 'one unit right, one imaginary unit up',\n",
    "      '\\nvector with magnitude: %03f, rotation: %03f radians'%(z_magnitude, z_theta), \n",
    "      '\\n(rotation:) %0.3f in degrees'%(z_theta_degrees))"
   ]
  },
  {
   "cell_type": "code",
   "execution_count": 23,
   "metadata": {},
   "outputs": [
    {
     "name": "stdout",
     "output_type": "stream",
     "text": [
      "\t1.000 + 0.000i\n",
      "\t0.766 + 0.643i\n",
      "\t0.174 + 0.985i\n",
      "\t-0.500 + 0.866i\n",
      "\t-0.940 + 0.342i\n",
      "\t-0.940  -0.342i\n",
      "\t-0.500  -0.866i\n",
      "\t0.174  -0.985i\n",
      "\t0.766  -0.643i\n",
      "\t1.000  -0.000i\n"
     ]
    }
   ],
   "source": [
    "magnitude = 1.0\n",
    "for theta in np.linspace(0, 2*np.pi, 10):\n",
    "    z = np.exp(theta * 1j) * magnitude\n",
    "    if z.imag >= 0:\n",
    "        print('\\t%0.3f + %0.3fi'%(z.real, z.imag))\n",
    "    else:\n",
    "        print('\\t%0.3f  %0.3fi'%(z.real, z.imag))\n"
   ]
  },
  {
   "cell_type": "code",
   "execution_count": 59,
   "metadata": {},
   "outputs": [
    {
     "name": "stdout",
     "output_type": "stream",
     "text": [
      "\n",
      "magnitude x_0 = 1\n",
      "x^0 = 1, x^1 = -1, x^2 = 1, x^3 = -1, x^4 = 1, x^5 = -1, x^6 = 1, x^7 = -1\n",
      "\n",
      "magnitude x_0 = 1.2\n",
      "x^0.0 = 1.0, x^1.0 = -1.2, x^2.0 = 1.4, x^3.0 = -1.7, x^4.0 = 2.1, x^5.0 = -2.5, x^6.0 = 3.0, x^7.0 = -3.6\n",
      "\n",
      "magnitude x_0 = 0.8\n",
      "x^0.0 = 1.0, x^1.0 = -0.8, x^2.0 = 0.6, x^3.0 = -0.5, x^4.0 = 0.4, x^5.0 = -0.3, x^6.0 = 0.3, x^7.0 = -0.2\n"
     ]
    }
   ],
   "source": [
    "# real numbers can only flip, \n",
    "# and they flip out to infinity or zero unless their absolute value is one\n",
    "x = -1\n",
    "print('\\nmagnitude x_0 =', np.abs(x))\n",
    "s = ''\n",
    "for k in range(8):\n",
    "    s += 'x^%i = %i, '%(k, (x)**k)\n",
    "print(s[:-2])\n",
    "\n",
    "x = -1.2\n",
    "print('\\nmagnitude x_0 =', np.abs(x))\n",
    "s = ''\n",
    "for k in range(8):\n",
    "    s += 'x^%0.1f = %0.1f, '%(k, (x)**k)\n",
    "print(s[:-2])\n",
    "\n",
    "x = -0.8\n",
    "print('\\nmagnitude x_0 =', np.abs(x))\n",
    "s = ''\n",
    "for k in range(8):\n",
    "    s += 'x^%0.1f = %0.1f, '%(k, (x)**k)\n",
    "print(s[:-2])\n"
   ]
  },
  {
   "cell_type": "code",
   "execution_count": 55,
   "metadata": {},
   "outputs": [
    {
     "name": "stdout",
     "output_type": "stream",
     "text": [
      "\n",
      "magnitude z_0 = 1.0\n",
      "z^0 = 1.00 0.00i , z^1 = 0.71 0.71i , z^2 = 0.00 1.00i , z^3 = -0.71 0.71i , z^4 = -1.00 0.00i \n",
      "\n",
      "magnitude z_0 = 0.9\n",
      "z^0 = 1.000+0.000i, z^1 = 0.636+0.636i, z^2 = 0.000+0.810i, z^3 = -0.515+0.515i, \n",
      "z^4 = -0.656+0.000i, z^5 = -0.418-0.418i, z^6 = -0.000-0.531i, z^7 = 0.338-0.338i, \n",
      "z^8 = 0.430-0.000i, z^9 = 0.274+0.274i, z^10 = 0.000+0.349i, z^11 = -0.222+0.222i, \n",
      "z^12 = -0.282+0.000i, z^13 = -0.180-0.180i, z^14 = -0.000-0.229i, z^15 = 0.146-0.146i, \n",
      "z^16 = 0.185-0.000i, z^17 = 0.118+0.118i, z^18 = 0.000+0.150i, z^19 = -0.096+0.096i, \n",
      "z^20 = -0.122+0.000i, z^21 = -0.077-0.077i, z^22 = -0.000-0.098i, z^23 = 0.063-0.063i, \n",
      "z^24 = 0.080-0.000i, z^25 = 0.051+0.051i, z^26 = 0.000+0.065i, z^27 = -0.041+0.041i, \n",
      "z^28 = -0.052+0.000i, z^29 = -0.033-0.033i, z^30 = -0.000-0.042i, z^31 = 0.027-0.027i, \n",
      "z^32 = 0.034-0.000i, z^33 = 0.022+0.022i, z^34 = 0.000+0.028i, z^35 = -0.018+0.018i, \n",
      "z^36 = -0.023+0.000i, z^37 = -0.014-0.014i, z^38 = -0.000-0.018i, z^39 = 0.012-0.012i, \n",
      "z^40 = 0.015-0.000i, z^41 = 0.009+0.009i, z^42 = 0.000+0.012i, z^43 = -0.008+0.008i, \n",
      "z^44 = -0.010+0.000i, z^45 = -0.006-0.006i, z^46 = -0.000-0.008i, z^47 = 0.005-0.005i, \n",
      "z^48 = 0.006-0.000i, z^49 = 0.004+0.004i, z^50 = 0.000+0.005i, z^51 = -0.003+0.003i, \n",
      "z^52 = -0.004+0.000i, z^53 = -0.003-0.003i, z^54 = -0.000-0.003i, z^55 = 0.002-0.002i, \n",
      "z^56 = 0.003-0.000i, z^57 = 0.002+0.002i, z^58 = 0.000+0.002i, z^59 = -0.001+0.001i, \n",
      "z^60 = -0.002+0.000i, z^61 = -0.001-0.001i, z^62 = -0.000-0.001i, z^63 = 0.001-0.001i, \n",
      "z^64 = 0.001-0.000i, z^65 = 0.001+0.001i, z^66 = 0.000+0.001i, z^67 = -0.001+0.001i, \n",
      "z^68 = -0.001+0.000i, z^69 = -0.000-0.000i, z^70 = -0.000-0.001i, z^71 = 0.000-0.000i, \n",
      "z^72 = 0.001-0.000i, z^73 = 0.000+0.000i, z^74 = 0.000+0.000i, z^75 = -0.000+0.000i, \n",
      "z^76 = -0.000+0.000i, z^77 = -0.000-0.000i, z^78 = -0.000-0.000i, z^79 = 0.000-0.000i, \n",
      "z^80 = 0.000-0.000i, z^81 = 0.000+0.000i, z^82 = 0.000+0.000i, z^83 = -0.000+0.000i, \n",
      "z^84 = -0.000+0.000i, z^85 = -0.000-0.000i, z^86 = -0.000-0.000i, z^87 = 0.000-0.000i, \n",
      "z^88 = 0.000-0.000i, z^89 = 0.000+0.000i, z^90 = 0.000+0.000i, z^91 = -0.000+0.000i, \n",
      "z^92 = -0.000+0.000i, z^93 = -0.000-0.000i, z^94 = -0.000-0.000i, z^95 = 0.000-0.000i, \n",
      "z^96 = 0.000-0.000i, z^97 = 0.000+0.000i, z^98 = 0.000+0.000i, z^99 = -0.000+0.000i\n",
      "\n",
      "magnitude z_0 = 1.1\n",
      "z^0 = 1.000+0.000i, z^1 = 0.778+0.778i, z^2 = 0.000+1.210i, z^3 = -0.941+0.941i, \n",
      "z^4 = -1.464+0.000i, z^5 = -1.139-1.139i, z^6 = -0.000-1.772i, z^7 = 1.378-1.378i, \n",
      "z^8 = 2.144-0.000i, z^9 = 1.667+1.667i, z^10 = 0.000+2.594i, z^11 = -2.017+2.017i, \n",
      "z^12 = -3.138+0.000i, z^13 = -2.441-2.441i, z^14 = -0.000-3.797i, z^15 = 2.954-2.954i, \n",
      "z^16 = 4.595-0.000i, z^17 = 3.574+3.574i, z^18 = 0.000+5.560i, z^19 = -4.325+4.325i, \n",
      "z^20 = -6.727+0.000i, z^21 = -5.233-5.233i, z^22 = -0.000-8.140i, z^23 = 6.332-6.332i, \n",
      "z^24 = 9.850-0.000i, z^25 = 7.661+7.661i, z^26 = 0.000+11.918i, z^27 = -9.270+9.270i, \n",
      "z^28 = -14.421+0.000i, z^29 = -11.217-11.217i, z^30 = -0.000-17.449i, z^31 = 13.572-13.572i, \n",
      "z^32 = 21.114-0.000i, z^33 = 16.423+16.423i, z^34 = 0.000+25.548i, z^35 = -19.871+19.871i, \n",
      "z^36 = -30.913+0.000i, z^37 = -24.044-24.044i, z^38 = -0.000-37.404i, z^39 = 29.094-29.094i, \n",
      "z^40 = 45.259-0.000i, z^41 = 35.203+35.203i, z^42 = 0.000+54.764i, z^43 = -42.596+42.596i, \n",
      "z^44 = -66.264+0.000i, z^45 = -51.541-51.541i, z^46 = -0.000-80.180i, z^47 = 62.365-62.365i, \n",
      "z^48 = 97.017-0.000i, z^49 = 75.462+75.462i, z^50 = 0.000+117.391i, z^51 = -91.309+91.309i, \n",
      "z^52 = -142.043+0.000i, z^53 = -110.483-110.483i, z^54 = -0.000-171.872i, z^55 = 133.685-133.685i, \n",
      "z^56 = 207.965-0.000i, z^57 = 161.759+161.759i, z^58 = 0.000+251.638i, z^59 = -195.728+195.728i, \n",
      "z^60 = -304.482+0.000i, z^61 = -236.831-236.831i, z^62 = -0.000-368.423i, z^63 = 286.566-286.566i, \n",
      "z^64 = 445.792-0.000i, z^65 = 346.744+346.744i, z^66 = 0.000+539.408i, z^67 = -419.561+419.561i, \n",
      "z^68 = -652.683+0.000i, z^69 = -507.669-507.669i, z^70 = -0.000-789.747i, z^71 = 614.279-614.279i, \n",
      "z^72 = 955.594-0.000i, z^73 = 743.278+743.278i, z^74 = 0.000+1156.269i, z^75 = -899.366+899.366i, \n",
      "z^76 = -1399.085+0.000i, z^77 = -1088.233-1088.233i, z^78 = -0.000-1692.893i, z^79 = 1316.762-1316.762i, \n",
      "z^80 = 2048.400-0.000i, z^81 = 1593.281+1593.281i, z^82 = 0.000+2478.564i, z^83 = -1927.871+1927.871i, \n",
      "z^84 = -2999.063+0.000i, z^85 = -2332.723-2332.723i, z^86 = -0.000-3628.866i, z^87 = 2822.595-2822.595i, \n",
      "z^88 = 4390.928-0.000i, z^89 = 3415.340+3415.340i, z^90 = 0.000+5313.023i, z^91 = -4132.562+4132.562i, \n",
      "z^92 = -6428.757+0.000i, z^93 = -5000.400-5000.400i, z^94 = -0.000-7778.796i, z^95 = 6050.484-6050.484i, \n",
      "z^96 = 9412.344-0.000i, z^97 = 7321.085+7321.085i, z^98 = 0.000+11388.936i, z^99 = -8858.513+8858.513i\n"
     ]
    }
   ],
   "source": [
    "# complex numbers \n",
    "# flip out cyclicly if they are on the unit circle\n",
    "z = np.cos(np.pi/4) + np.sin(np.pi/4) * 1j\n",
    "print('\\nmagnitude z_0 =', np.abs(z))\n",
    "s = ''\n",
    "for k in range(5):\n",
    "    z_n = (z)**k\n",
    "    s += 'z^%i = %0.2f %0.2fi , '%(k, z_n.real, z_n.imag)\n",
    "print(s[:-2])\n",
    "\n",
    "# or they flip out towards zero if they start inside the unit circle\n",
    "z = (np.cos(np.pi/4) + np.sin(np.pi/4) * 1j) * 0.9\n",
    "print('\\nmagnitude z_0 =', np.abs(z))\n",
    "s = ''\n",
    "for k in range(100):\n",
    "    z_n = (z)**k\n",
    "    if k > 0 and k % 4 == 0:\n",
    "        s += '\\n'\n",
    "    if z_n.imag >= 0:\n",
    "        s += 'z^%i = %0.3f+%0.3fi, '%(k, z_n.real, z_n.imag)\n",
    "    else:\n",
    "        s += 'z^%i = %0.3f%0.3fi, '%(k, z_n.real, z_n.imag)\n",
    "print(s[:-2])\n",
    "\n",
    "# and they flip out towards infinity if they start outside the unit circle\n",
    "z = (np.cos(np.pi/4) + np.sin(np.pi/4) * 1j) * 1.1\n",
    "print('\\nmagnitude z_0 =', np.abs(z))\n",
    "s = ''\n",
    "for k in range(100):\n",
    "    z_n = (z)**k\n",
    "    if k > 0 and k % 4 == 0:\n",
    "        s += '\\n'\n",
    "    if z_n.imag >= 0:\n",
    "        s += 'z^%i = %0.3f+%0.3fi, '%(k, z_n.real, z_n.imag)\n",
    "    else:\n",
    "        s += 'z^%i = %0.3f%0.3fi, '%(k, z_n.real, z_n.imag)\n",
    "\n",
    "print(s[:-2])\n"
   ]
  },
  {
   "cell_type": "code",
   "execution_count": null,
   "metadata": {},
   "outputs": [],
   "source": []
  },
  {
   "cell_type": "code",
   "execution_count": null,
   "metadata": {},
   "outputs": [],
   "source": []
  }
 ],
 "metadata": {
  "kernelspec": {
   "display_name": "Python 3",
   "language": "python",
   "name": "python3"
  },
  "language_info": {
   "codemirror_mode": {
    "name": "ipython",
    "version": 3
   },
   "file_extension": ".py",
   "mimetype": "text/x-python",
   "name": "python",
   "nbconvert_exporter": "python",
   "pygments_lexer": "ipython3",
   "version": "3.7.3"
  }
 },
 "nbformat": 4,
 "nbformat_minor": 2
}
