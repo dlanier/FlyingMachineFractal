{
 "cells": [
  {
   "cell_type": "markdown",
   "metadata": {},
   "source": [
    "# z_plane  API    module functions\n",
    "* One to get the framework of an image on the complex plane and three to show complex number data\n",
    "    * **get_complex_frame**       dictionary of 9 points\n",
    "    * **show_complex_frame**      print function for said dictionary\n",
    "    * **complex_to_string**       complex number formated string\n",
    "    * **show_complex_matrix**     print function for complex matrix\n",
    "    * **get_aligned_dict_string** get a printable dictionary"
   ]
  },
  {
   "cell_type": "code",
   "execution_count": 4,
   "metadata": {
    "collapsed": false
   },
   "outputs": [],
   "source": [
    "import os\n",
    "import sys\n",
    "import numpy as np\n",
    "\n",
    "sys.path.insert(1, '../src')\n",
    "import z_plane"
   ]
  },
  {
   "cell_type": "markdown",
   "metadata": {},
   "source": [
    "#### frame_dictionary = z_plane.get_complex_frame(center_point, zoom_factor, radians_rotation, height(=1),width(=1))\n",
    "\n",
    "    upper_left,      top_center,      upper_right\n",
    "\n",
    "    left_center,     center_point,    right_center\n",
    "\n",
    "    bottom_left,     bottom_center,   bottom_right\n",
    "    \n",
    "#### z_plane.show_complex_frame( frame_dictionary )"
   ]
  },
  {
   "cell_type": "code",
   "execution_count": 2,
   "metadata": {
    "collapsed": false
   },
   "outputs": [
    {
     "name": "stdout",
     "output_type": "stream",
     "text": [
      "square frame:\n",
      "\n",
      "upper_left:-1.0000 +1.0000j\ttop_center: 0.0000 +1.0000j\tupper_right: 1.0000 +1.0000j\n",
      "left_center:-1.0000 +0.0000j\tcenter_point: 0.0000 +0.0000j\tright_center: 1.0000 +0.0000j\n",
      "bottom_left:-1.0000 -1.0000j\tbottom_center:-0.0000 -1.0000j\tbottom_right: 1.0000 -1.0000j\n",
      "\n",
      "\n",
      "\n",
      " wide frame:\n",
      "\n",
      "upper_left:-2.0000 +1.0000j\ttop_center: 0.0000 +1.0000j\tupper_right: 2.0000 +1.0000j\n",
      "left_center:-2.0000 +0.0000j\tcenter_point: 0.0000 +0.0000j\tright_center: 2.0000 +0.0000j\n",
      "bottom_left:-2.0000 -1.0000j\tbottom_center:-0.0000 -1.0000j\tbottom_right: 2.0000 -1.0000j\n",
      "\n",
      "\n",
      "\n",
      " tall frame:\n",
      "\n",
      "upper_left:-1.0000 +2.0000j\ttop_center: 0.0000 +2.0000j\tupper_right: 1.0000 +2.0000j\n",
      "left_center:-1.0000 +0.0000j\tcenter_point: 0.0000 +0.0000j\tright_center: 1.0000 +0.0000j\n",
      "bottom_left:-1.0000 -2.0000j\tbottom_center:-0.0000 -2.0000j\tbottom_right: 1.0000 -2.0000j\n",
      "\n"
     ]
    }
   ],
   "source": [
    "CP = 0\n",
    "ZM = 1\n",
    "theta = 0\n",
    "print('square frame:\\n')\n",
    "fd = z_plane.get_complex_frame(CP,ZM,theta)\n",
    "print(z_plane.complex_frame_dict_to_string(fd))\n",
    "\n",
    "print('\\n\\n wide frame:\\n')\n",
    "n_rows = 100\n",
    "n_cols = 200\n",
    "print(z_plane.complex_frame_dict_to_string(z_plane.get_complex_frame(CP,ZM,theta, n_rows, n_cols)))\n",
    "\n",
    "print('\\n\\n tall frame:\\n')\n",
    "n_rows = 200\n",
    "n_cols = 100\n",
    "print(z_plane.complex_frame_dict_to_string(z_plane.get_complex_frame(CP,ZM,theta, n_rows, n_cols)))"
   ]
  },
  {
   "cell_type": "markdown",
   "metadata": {},
   "source": [
    "#### frame_string = z_plane.get_complex_frame_string(frame_dictionary, N_DEC(=4))\n",
    "\n",
    "#### z_string = z_plane.complex_to_string(z, N_DEC(=6))"
   ]
  },
  {
   "cell_type": "code",
   "execution_count": 3,
   "metadata": {
    "collapsed": false
   },
   "outputs": [
    {
     "name": "stdout",
     "output_type": "stream",
     "text": [
      " 1.000000000000 -1.000000000000j \n",
      "\n",
      "\n"
     ]
    }
   ],
   "source": [
    "z = 1 - 1j\n",
    "print(z_plane.complex_to_string(z, 12),'\\n\\n')"
   ]
  },
  {
   "cell_type": "code",
   "execution_count": 4,
   "metadata": {
    "collapsed": false
   },
   "outputs": [
    {
     "name": "stdout",
     "output_type": "stream",
     "text": [
      "upper_left:-1.0000 +1.0000j\ttop_center: 0.0000 +1.0000j\tupper_right: 1.0000 +1.0000j\n",
      "left_center:-1.0000 +0.0000j\tcenter_point: 0.0000 +0.0000j\tright_center: 1.0000 +0.0000j\n",
      "bottom_left:-1.0000 -1.0000j\tbottom_center:-0.0000 -1.0000j\tbottom_right: 1.0000 -1.0000j\n",
      "\n"
     ]
    }
   ],
   "source": [
    "CP = 0\n",
    "ZM = 1\n",
    "theta = 0\n",
    "fd = z_plane.get_complex_frame(CP,ZM,theta)\n",
    "print(z_plane.complex_frame_dict_to_string(fd))\n"
   ]
  },
  {
   "cell_type": "markdown",
   "metadata": {
    "collapsed": true
   },
   "source": [
    "#### z_plane.show_complex_matrix(Z0, N_DEC(=3))"
   ]
  },
  {
   "cell_type": "code",
   "execution_count": 5,
   "metadata": {
    "collapsed": false
   },
   "outputs": [
    {
     "name": "stdout",
     "output_type": "stream",
     "text": [
      " 0.909 +0.262j   0.966 +0.403j   0.329 +0.755j   0.566 +0.870j   0.988 +0.324j   0.832 +0.780j   0.498 +0.469j  \n",
      " 0.045 +0.406j   0.294 +0.350j   0.444 +0.866j   0.302 +0.058j   0.177 +0.931j   0.351 +0.064j   0.878 +0.029j  \n",
      " 0.112 +0.319j   0.759 +0.541j   0.100 +0.264j   0.115 +0.557j   0.009 +0.177j   0.248 +0.662j   0.496 +0.819j  \n",
      " 0.187 +0.750j   0.212 +0.179j   0.870 +0.400j   0.765 +0.045j   0.340 +0.328j   0.373 +0.056j   0.393 +0.069j  \n",
      " 0.602 +0.806j   0.694 +0.350j   0.542 +0.276j   0.108 +0.901j   0.354 +0.918j   0.619 +0.363j   0.205 +0.747j  \n",
      " 0.885 +0.582j   0.916 +0.581j   0.337 +0.393j   0.248 +0.894j   0.640 +0.243j   0.670 +0.132j   0.737 +0.174j  \n",
      " 0.471 +0.918j   0.194 +0.851j   0.321 +0.687j   0.241 +0.230j   0.747 +0.506j   0.779 +0.047j   0.315 +0.985j  \n"
     ]
    }
   ],
   "source": [
    "Z0 = np.random.random((7,7)) + np.random.random((7,7)) * 1j\n",
    "z_plane.show_complex_matrix(Z0, N_DEC=3)"
   ]
  },
  {
   "cell_type": "markdown",
   "metadata": {
    "collapsed": true
   },
   "source": [
    "#### pretty_string = z_plane.get_aligned_dict_string(a_dict, N_DEC=6)"
   ]
  },
  {
   "cell_type": "code",
   "execution_count": 7,
   "metadata": {
    "collapsed": false
   },
   "outputs": [
    {
     "name": "stdout",
     "output_type": "stream",
     "text": [
      "    center_point: -2.000000 -3.250000j\n",
      "          n_cols: 5\n",
      "          n_rows: 5\n",
      "           theta: 3.141593\n",
      "     zoom_factor: 0.750000\n",
      "\n"
     ]
    }
   ],
   "source": [
    "a_dict = {'theta': np.pi, 'center_point': -2 - 3.25j, 'zoom_factor': 0.75, 'n_rows': 5, 'n_cols': 5}\n",
    "pretty_string = z_plane.get_aligned_dict_string(a_dict, N_DEC=6)\n",
    "print(pretty_string)"
   ]
  },
  {
   "cell_type": "code",
   "execution_count": null,
   "metadata": {
    "collapsed": true
   },
   "outputs": [],
   "source": []
  },
  {
   "cell_type": "code",
   "execution_count": null,
   "metadata": {
    "collapsed": true
   },
   "outputs": [],
   "source": []
  }
 ],
 "metadata": {
  "anaconda-cloud": {},
  "kernelspec": {
   "display_name": "Python 3",
   "language": "python",
   "name": "python3"
  },
  "language_info": {
   "codemirror_mode": {
    "name": "ipython",
    "version": 3
   },
   "file_extension": ".py",
   "mimetype": "text/x-python",
   "name": "python",
   "nbconvert_exporter": "python",
   "pygments_lexer": "ipython3",
   "version": "3.6.0"
  }
 },
 "nbformat": 4,
 "nbformat_minor": 1
}
